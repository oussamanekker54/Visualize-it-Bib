{
 "cells": [
  {
   "cell_type": "markdown",
   "id": "669060b3-bbef-4c22-b9bb-2761efdece33",
   "metadata": {},
   "source": [
    "# Structure Algebrique"
   ]
  },
  {
   "cell_type": "markdown",
   "id": "25b56523-4914-4512-9b3d-f5d7773310e1",
   "metadata": {},
   "source": [
    "Est une ensemble muni du plusieurs operations, satisfait des regles specifique. C'est structure permet d'etudie les propriete generale des objet mathematique (Les nombres, les ensembles, les espaces vectoriels, les fonctions, les groupes, les point, les droits, les courbes... etc)."
   ]
  },
  {
   "cell_type": "markdown",
   "id": "4f98618b-9aa5-46f1-9d2e-309ae6d1ddff",
   "metadata": {},
   "source": [
    "#### Groupe"
   ]
  },
  {
   "cell_type": "markdown",
   "id": "43888c1a-e895-4d9e-8788-39d2bdafb57f",
   "metadata": {},
   "source": [
    "Un ensemble muni d'un operation binaire, Par exemple  $+$ ou  $\\times$. Verifie;"
   ]
  },
  {
   "cell_type": "markdown",
   "id": "71efe000-5f26-4781-926e-9c57908b06bc",
   "metadata": {},
   "source": [
    "- L'associativite \"  $(a.b).c = a.(b.c) $ \".\n",
    "- Element neutre \"  $\\exists$ $e$ tq $a.e$ $=$ $e.a$ = $a$ \".\n",
    "- L'inverse \" $\\forall a, \\exists b$ tq $a.b$ $=$ $b.a$ $=$ $e$\n",
    "* Exemples: $(\\mathbb{Z}, +)$ (Entier relatifs avec l'addition), Et les rotations d'un carre (Groupe symetrique)"
   ]
  },
  {
   "cell_type": "markdown",
   "id": "78509107-e29b-4b5c-8059-bf840ef4127a",
   "metadata": {},
   "source": [
    "#### Anneau "
   ]
  },
  {
   "cell_type": "markdown",
   "id": "d40e8395-c37b-479d-8698-dc0963011fdc",
   "metadata": {},
   "source": [
    "- $A$ Un ensemble muni de deux operations ($+$ et $\\times$). Verifie;\n",
    "- $(A,+)$ est un groupe abélien (commutatif $\\longrightarrow$ satisfait la 'Fermeture': $(a,b)\\in A$ alors que $a+b \\in A$, 'Associativite'..., 'Element neutre'..., 'Element invers'...).\n",
    "- $(A, \\times)$ est associatif et possède un élément neutre multiplicatif.\n",
    "- Distributivité: $a \\times (b + c) = (a \\times b) + (a \\times c)$\n"
   ]
  },
  {
   "cell_type": "markdown",
   "id": "46741223-bfe0-4339-9e73-0d770a526f71",
   "metadata": {},
   "source": [
    "Exemple: $(\\mathbb{Z}, +, \\times)$ (des entiers avec addition et multiplication). et Les polynomes a coefficient reel"
   ]
  },
  {
   "cell_type": "markdown",
   "id": "baef3d15-b817-41dd-b89a-91a3a23a733f",
   "metadata": {},
   "source": [
    "#### Espace Vectoriel:"
   ]
  },
  {
   "cell_type": "raw",
   "id": "8f375915-cfe1-4701-8224-e1aa5fc15c6f",
   "metadata": {},
   "source": [
    "    Structure d'un espace vectoriel: (Resume Visuel)\n",
    "            corps (R ou C)\n",
    "                   |\n",
    "                   ▼\n",
    "    Espace Vectoriel (V)\n",
    "    ├── Addition : associative, commutative, neutre, inverses\n",
    "    ├── Multiplication scalaire : compatible, distributive\n",
    "    ├── Sous-espaces : stables par addition/scalaire\n",
    "    └── Bases : indépendantes + génératrices → dimension finie\n",
    "\n",
    "    -Applications en Algebre 2:\n",
    "        - Resolution des application leneaire via les aspace vectoriel.\n",
    "        - Diagonalisation: Etude des valeurs propres / les vecteurs propres dans R, (dimension n) \n",
    "        - Geometrie analytique: Representation des droite / plans comme sous-espace.\n",
    "        "
   ]
  },
  {
   "cell_type": "markdown",
   "id": "b400594a-d4ee-476a-8e3c-4efc58f4e661",
   "metadata": {},
   "source": [
    "un espace vectoriel $V$ sur un corps $\\mathbb{K}$ (comme: $\\mathbb{R}$ ou $\\mathbb{C}$) est un ensemble muni de deux operation:"
   ]
  },
  {
   "cell_type": "markdown",
   "id": "9933cb15-b7d0-4ccb-b1c0-d3b105b16269",
   "metadata": {},
   "source": [
    "- L'addition vectorielle: $V \\times V$ $\\longrightarrow$ $V$ (note: $u$ $+$ $v$)\n",
    "- Multiplication par un scalaire: $\\mathbb{K} \\times \\mathbb{R} \\longrightarrow V$  (note: $\\lambda v$)"
   ]
  },
  {
   "cell_type": "markdown",
   "id": "ee1f1b94-72ed-4da8-87b8-14a8337b7dd2",
   "metadata": {},
   "source": [
    "Ces deux operation muni du 8 axioms (regles):"
   ]
  },
  {
   "cell_type": "markdown",
   "id": "70a3d63c-8dfd-4344-baae-9e7e421ca7e4",
   "metadata": {},
   "source": [
    "- Axiomes de l'addition vectoriel:\n",
    "- ---- > Associativite: $ u + (v + w) = (u + v) + w$\n",
    "- ---- > Commutativite: $ u + v = v + u$\n",
    "- ---- > L'element neutre: $\\exists 0 \\in V$ tq $v + 0 = v$\n",
    "- ---- > L'invers additive: $\\forall v \\in V$ $\\exists -v \\in V$ tq $(v + (-v)) = 0 $\n",
    "- Axiomes de la multiplication par un scalaire:\n",
    "- ---- > Compatibilite avec scalaire: $\\lambda$($\\eta .v$) = $(\\lambda .\\eta)v$\n",
    "- ---- > L'element neutre multiplicatif: $1.v = v.1 = v$\n",
    "- ---- > Distributivite (vecteurs): $\\lambda(u + v) =$ $\\lambda v + \\lambda u$\n",
    "- ---- > Distributivite (scalaires): $u(\\lambda + \\eta) =$ $u.\\lambda + u.\\eta$"
   ]
  },
  {
   "cell_type": "markdown",
   "id": "c3312dc4-b346-4d6e-beb7-fabe721f9508",
   "metadata": {},
   "source": [
    "#### Exemples fondamentaux:"
   ]
  },
  {
   "cell_type": "markdown",
   "id": "c070106a-a95e-4eaa-a4a0-a73d0196273d",
   "metadata": {},
   "source": [
    "* Espace numerique $\\mathbb{K}^n$ (avec $n\\in\\mathbb{N};$ Ou $\\mathbb{K} = \\mathbb{R},\\mathbb{C},$ ..etc )\n",
    "    - Est un de $n$-vecteurs de la forme $(x_1, x_2, x_3, ... , x_n)$ Ou $x_i \\in\\mathbb{K}$\n",
    "    - soit les deux vecteurs: $x = \\left(\\begin{array}{cc}x_1\\\\x_2\\\\x_3\\end{array}\\right)$ et $y = \\left(\\begin{array}{cc}y_1\\\\y_2\\\\y_2\\end{array}\\right)$ de $\\mathbb{K}^{n}$ et $\\lambda\\in\\mathbb{K}$ tq: $x+y = \\left(\\begin{array}{cc}x_1 + y_1\\\\x_2 + y_2\\\\x_3 + y_3\\end{array}\\right)$ et $\\lambda.x = \\left(\\begin{array}{cc}\\lambda x_1\\\\\\lambda.x_2\\\\\\lambda.x_3\\end{array}\\right) = \\lambda.\\left(\\begin{array}{cc}y_1\\\\y_2\\\\y_2\\end{array}\\right)$\n",
    "    - Base canonique: $e_1 = \\left(\\begin{array}{cc}1\\\\0\\\\.\\\\.\\\\0\\end{array}\\right); $ $e_2 = \\left(\\begin{array}{cc}0\\\\1\\\\.\\\\.\\\\0\\end{array}\\right); ...$ $;e_n = \\left(\\begin{array}{cc}0\\\\0\\\\.\\\\.\\\\1\\end{array}\\right).$ Dimension: $n$.\n",
    "    - Exemples: $\\mathbb{R}^{3}$ : Vecteurs de la forme $(x,y,z)$ utilise en geomitrie 3D.\n",
    "* Espace des Matrices: $\\mathcal{M\\scriptstyle m\\times n}$ $(\\mathbb{K}):$\n",
    "    - Operation des matrices a $m$ lignes et $n$ columns, ou chaque entre ${a\\scriptscriptstyle ij}\\in\\mathbb{K}$ (Comme definition)\n",
    "    - Les operation:\n",
    "        - Addition: $[{a\\scriptscriptstyle ij}]$ $+$ $[{b \\scriptscriptstyle ij}]$ $=$ $[{a \\scriptscriptstyle ij} + {b \\scriptscriptstyle ij}]$\n",
    "        - multiplication par un scalaire: $\\lambda.[a {\\scriptscriptstyle ij}]$ $=$ $[\\lambda.a {\\scriptscriptstyle ij}]$\n",
    "    - Base Canonique: Les matrices elementaires $E{\\scriptscriptstyle ij}$ Ou $E{\\scriptscriptstyle ij}$ a un $1$ en position ${i,j}$ et $0$ ailleurs. $E\\scriptscriptstyle 1,1$ $=$ $\\left(\\begin{array}{cc}1 & 0 &0 \\\\ 0 & 0 &0\\end{array}\\right)$. $E\\scriptscriptstyle 1,2$ $=$ $\\left(\\begin{array}{cc}0 & 1 &0 \\\\ 0 & 0 &0\\end{array}\\right)$, $E\\scriptscriptstyle 1,3$ $=$ $\\left(\\begin{array}{cc}0 & 0 &1 \\\\ 0 & 0 &0\\end{array}\\right)$. $E\\scriptscriptstyle 2,1$ $=$ $\\left(\\begin{array}{cc}0 & 0 &0 \\\\ 1 & 0 &0\\end{array}\\right)$. $E\\scriptscriptstyle 2,2$ $=$ $\\left(\\begin{array}{cc}0 & 0 &0 \\\\ 0 & 1 &0\\end{array}\\right)$. $E\\scriptscriptstyle 2,3$ $=$ $\\left(\\begin{array}{cc}0 & 0 &0 \\\\ 0 & 0 &1\\end{array}\\right)$\n",
    "- Exemple: $\\mathcal{M}{\\scriptstyle 2\\times2}(\\mathbb{R});$ $\\left(\\begin{array}{cc} 1&2\\\\3&4\\end{array}\\right)$ $+$ $\\left(\\begin{array}{cc}-1&1\\\\2&1\\end{array}\\right)$ $=$ $\\left(\\begin{array}{cc}0&3\\\\5&5\\end{array}\\right)$\n"
   ]
  },
  {
   "cell_type": "markdown",
   "id": "feccb013-e5fa-41f6-b8e1-6c122902dcf9",
   "metadata": {},
   "source": [
    "* Espace des polynomes $\\mathbb{K}[x]:$\n",
    "    - polynome de degree $<= n$: (Ensemble des plynomes $P(x)=a_0+a_1x+...+a_n.x^n,$ ou $a_i \\in\\mathbb{K}$\n",
    "        * Addition et multiplication par un scalaire coefficient par coefficient.\n",
    "        * Base canonique: {$1,x,x^2,...,x^n$}\n",
    "        * Dimension: $n + 1$\n",
    "    - Espace de tous les polynomes $\\mathbb{K}[x]$\n",
    "        * base: {$1,x,x^2,...$}\n",
    "        * Dimension : Infinie\n",
    "* Espace de Fonctions $\\mathcal{F}(A,\\mathbb{K})$ (avec $A$ non-vide)\n",
    "    - Ensemble des fonctions $f: A\\longrightarrow\\mathbb{K}$ ou $𝐴$ est un ensemble quelconque ($A = \\mathbb{R},\\mathbb{N},[a,b]$)\n",
    "    - Operation d'addition: $(f+g)(x) = f(x)+f(g),$ $\\forall x \\in A$\n",
    "    - Operation multiplication par un scalaire: $(\\lambda.f)(x) = \\lambda.f(x)$\n",
    "    - La base:\n",
    "        * Si $A$ est finie: $A = {1,2,3,...,n}$ une base est {$\\delta_1,\\delta_2,\\delta_3,...,\\delta_n$} ou $\\delta_i(a)=1$ si $a=i$, 0 sinon.\n",
    "        *  si $A$ est infinie: pas de base finie $\\rightarrow$ dimension infinie. (ex: $A=\\mathbb{R}$)\n",
    "    - exemples:\n",
    "        * $\\mathcal{F}(\\mathbb{N},\\mathbb{R}$: l'espace des suites reel.\n",
    "        * $\\mathcal{F}([a,b],\\mathbb{R})$\n",
    "* Espace de Fonctions $\\mathcal{F}(A,E)$ ($E$ un $\\mathbb{K}$-espace-vectoriel\n",
    "    - Ensemble des fonctions $f: A\\longrightarrow\\mathbb{K}$ ou $E$ est un espace vectoriel sur $\\mathbb{K}$\n",
    "    - Operations: Identiques $\\mathcal{F}(A,\\mathbb{K})$ mais les valeurs sont dans 𝐸\n",
    "    - Propriete est si $E$ est de dimension finie $m$, alors $\\mathcal{F}(A,E)$ est isomorphe $\\mathcal{F}(A,K)^m$\n",
    "* Espaces Vectoriels Produits $V \\times W$\n",
    "    - Le produit cartésien de deux espaces vectoriels $V$ et $W$, avec des opérations composante par composante\n",
    "    - Operations d\"ddition: $(v_1,w_1) + (v_2,w_1) = (v_1+v_2,w_1+w_2)$\n",
    "    - Multiplication par un scalaire: $\\lambda(u,v)=(\\lambda.u,\\lambda.v)$\n",
    "    - Base et Dimension :\n",
    "        * si $V$ a une baes $(v_1,...,v_n)$ et $W$ a une base $(w_1,...,w_n)$ alors la base de $V\\times W$ est {$(v_1,0_W),...,(v_n,0_W),(0_V,w_1),...,(0_V,w_m)$}\n",
    "        * dimension $= dim(V) + dim(W)$\n",
    "    - Exemple: $\\mathbb{R}^2\\times\\mathbb{R}^3$ Vecteurs de la forme {$x_1,x_2$} et {$y_1,y_2,y_3$} isomorph a $\\mathbb{R}^5$"
   ]
  },
  {
   "cell_type": "markdown",
   "id": "1d3e78c4-e9d0-43b4-bb9f-f979edad0cd1",
   "metadata": {},
   "source": [
    "    resume des stuctures. C:\\Users\\Nonos\\FPs\\Sources\\Algebre\\Images"
   ]
  },
  {
   "cell_type": "code",
   "execution_count": 2,
   "id": "793550ef-70eb-4513-8b5b-49af9c7bd52e",
   "metadata": {},
   "outputs": [
    {
     "name": "stdout",
     "output_type": "stream",
     "text": [
      "u + v = [1 7]\n",
      "2 * u = [4 6]\n",
      "u ⋅ v = 10\n"
     ]
    },
    {
     "data": {
      "image/png": "[encoded data removed]",
      "text/plain": [
       "<Figure size 800x600 with 1 Axes>"
      ]
     },
     "metadata": {},
     "output_type": "display_data"
    }
   ],
   "source": [
    "import numpy as np\n",
    "import matplotlib.pyplot as plt\n",
    "\n",
    "u = np.array([2, 3])\n",
    "v = np.array([-1, 4])\n",
    "w = u + v #somme de deux victeurs\n",
    "\n",
    "lambda_ = 2 #scalaire\n",
    "scaled_u = lambda_ * u # multiplication par un scalaire\n",
    "dot_product = np.dot(u, v) #2.(-1)+3.4=10, dans cette exemple.\n",
    "\n",
    "print(\"u + v =\", w)\n",
    "print(\"2 * u =\", scaled_u)\n",
    "print(\"u ⋅ v =\", dot_product)\n",
    "\n",
    "plt.figure(figsize=(8, 6))\n",
    "plt.quiver(0, 0, u[0], u[1], angles='xy', scale_units='xy', scale=1, color='r', label='u = (2, 3)')\n",
    "plt.quiver(0, 0, v[0], v[1], angles='xy', scale_units='xy', scale=1, color='b', label='v = (-1, 4)')\n",
    "plt.quiver(0, 0, w[0], w[1], angles='xy', scale_units='xy', scale=1, color='g', label='u + v = (1, 7)')\n",
    "\n",
    "plt.xlim(-2, 5)\n",
    "plt.ylim(-1, 8)\n",
    "plt.grid(True)\n",
    "plt.axhline(0, color='black', linewidth=0.5)\n",
    "plt.axvline(0, color='black', linewidth=0.5)\n",
    "plt.xlabel('Axe x')\n",
    "plt.ylabel('Axe y')\n",
    "plt.title('Opérations dans R^2')\n",
    "plt.legend()\n",
    "plt.show()"
   ]
  },
  {
   "cell_type": "code",
   "execution_count": null,
   "id": "c832c726-1a90-4e3d-8327-da76f205cbdb",
   "metadata": {},
   "outputs": [],
   "source": []
  },
  {
   "cell_type": "code",
   "execution_count": null,
   "id": "47e5e1ce-da2b-4734-ad1a-95ff5b982d80",
   "metadata": {},
   "outputs": [],
   "source": []
  },
  {
   "cell_type": "code",
   "execution_count": null,
   "id": "53bd6a2d-49a3-4557-98ef-8661a5ef2c81",
   "metadata": {},
   "outputs": [],
   "source": []
  },
  {
   "cell_type": "code",
   "execution_count": null,
   "id": "95e6b39a-fbb3-4bc3-aea2-10213ada2ed8",
   "metadata": {},
   "outputs": [],
   "source": []
  },
  {
   "cell_type": "code",
   "execution_count": null,
   "id": "10bc4485-e7e2-4c58-b741-95ea778c5eeb",
   "metadata": {},
   "outputs": [],
   "source": []
  },
  {
   "cell_type": "code",
   "execution_count": null,
   "id": "54bfddd1-f9f8-4d8e-b45a-c2f7ba92b6eb",
   "metadata": {},
   "outputs": [],
   "source": []
  },
  {
   "cell_type": "code",
   "execution_count": null,
   "id": "37fabc72-a382-4ed3-8a98-bbe86714f667",
   "metadata": {},
   "outputs": [],
   "source": []
  },
  {
   "cell_type": "code",
   "execution_count": null,
   "id": "c1bb5714-1253-4d3a-995d-60727b31f9a4",
   "metadata": {},
   "outputs": [],
   "source": []
  },
  {
   "cell_type": "code",
   "execution_count": null,
   "id": "3330c68c-65bf-45f2-b5e9-24c88c8d49a6",
   "metadata": {},
   "outputs": [],
   "source": []
  },
  {
   "cell_type": "code",
   "execution_count": null,
   "id": "37210b69-e724-43d2-8d90-44bff31ee12c",
   "metadata": {},
   "outputs": [],
   "source": []
  },
  {
   "cell_type": "code",
   "execution_count": null,
   "id": "f8cc3b55-ae27-443c-8a20-5835624dee35",
   "metadata": {},
   "outputs": [],
   "source": []
  },
  {
   "cell_type": "code",
   "execution_count": null,
   "id": "6d8ec6b4-080e-4f02-bc93-0a5158fecb10",
   "metadata": {},
   "outputs": [],
   "source": []
  },
  {
   "cell_type": "code",
   "execution_count": null,
   "id": "444b60fa-1f95-4fdd-af63-f25ad35bda54",
   "metadata": {},
   "outputs": [],
   "source": []
  },
  {
   "cell_type": "code",
   "execution_count": null,
   "id": "dea20d97-084a-4029-8d7f-262428bccb10",
   "metadata": {},
   "outputs": [],
   "source": []
  },
  {
   "cell_type": "code",
   "execution_count": null,
   "id": "aca1ef95-9030-48d3-94e9-b6eb6b2235b5",
   "metadata": {},
   "outputs": [],
   "source": []
  },
  {
   "cell_type": "code",
   "execution_count": null,
   "id": "33b42844-3f42-4c99-b03b-59af6c752296",
   "metadata": {},
   "outputs": [],
   "source": []
  },
  {
   "cell_type": "code",
   "execution_count": null,
   "id": "28bc7548-a243-44ac-8ec7-4a29812b6d12",
   "metadata": {},
   "outputs": [],
   "source": []
  },
  {
   "cell_type": "code",
   "execution_count": null,
   "id": "39eabf76-9e9e-42e9-85ae-801891e21fc0",
   "metadata": {},
   "outputs": [],
   "source": []
  },
  {
   "cell_type": "code",
   "execution_count": null,
   "id": "0da36a64-27ce-4502-9657-dab0f59a6be0",
   "metadata": {},
   "outputs": [],
   "source": []
  },
  {
   "cell_type": "code",
   "execution_count": null,
   "id": "3827a56a-2141-4ab7-ba73-41a2ce6989f9",
   "metadata": {},
   "outputs": [],
   "source": []
  },
  {
   "cell_type": "code",
   "execution_count": null,
   "id": "9fd5dc05-d088-4a71-80e7-e44aa1139ee2",
   "metadata": {},
   "outputs": [],
   "source": []
  }
 ],
 "metadata": {
  "kernelspec": {
   "display_name": "Python 3 (ipykernel)",
   "language": "python",
   "name": "python3"
  },
  "language_info": {
   "codemirror_mode": {
    "name": "ipython",
    "version": 3
   },
   "file_extension": ".py",
   "mimetype": "text/x-python",
   "name": "python",
   "nbconvert_exporter": "python",
   "pygments_lexer": "ipython3",
   "version": "3.12.3"
  }
 },
 "nbformat": 4,
 "nbformat_minor": 5
}
